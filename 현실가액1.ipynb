{
 "cells": [
  {
   "cell_type": "code",
   "execution_count": null,
   "id": "fdb6c617",
   "metadata": {},
   "outputs": [],
   "source": [
    "import pandas as pd\n",
    "import requests \n",
    "import matplotlib.pyplot as plt"
   ]
  },
  {
   "cell_type": "code",
   "execution_count": null,
   "id": "63c74777",
   "metadata": {},
   "outputs": [],
   "source": [
    "# 윈도우 : \"Malgun Gothic\"\n",
    "# 맥 : \"AppleGothic\"\n",
    "def get_font_family():\n",
    "    \"\"\"\n",
    "    시스템 환경에 따른 기본 폰트명을 반환하는 함수\n",
    "    \"\"\"\n",
    "    import platform\n",
    "    system_name = platform.system()\n",
    "\n",
    "    if system_name == \"Darwin\" :\n",
    "        font_family = \"AppleGothic\"\n",
    "    elif system_name == \"Windows\":\n",
    "        font_family = \"Malgun Gothic\"\n",
    "    else:\n",
    "        # Linux(colab)\n",
    "        !apt-get install fonts-nanum -qq  > /dev/null\n",
    "        !fc-cache -fv\n",
    "\n",
    "        import matplotlib as mpl\n",
    "        mpl.font_manager._rebuild()\n",
    "        findfont = mpl.font_manager.fontManager.findfont\n",
    "        mpl.font_manager.findfont = findfont\n",
    "        mpl.backends.backend_agg.findfont = findfont\n",
    "        \n",
    "        font_family = \"NanumBarunGothic\"\n",
    "    return font_family\n",
    "\n",
    "# 폰트설정\n",
    "plt.rc(\"font\", family=get_font_family())\n",
    "# 마이너스폰트 설정\n",
    "plt.rc(\"axes\", unicode_minus=False)"
   ]
  },
  {
   "cell_type": "code",
   "execution_count": null,
   "id": "eb10d8bb",
   "metadata": {},
   "outputs": [],
   "source": [
    "df=pd.read_csv(\"data/현실가액.csv\",encoding='cp949')"
   ]
  },
  {
   "cell_type": "code",
   "execution_count": null,
   "id": "4e782bef",
   "metadata": {},
   "outputs": [],
   "source": [
    "df.columns"
   ]
  },
  {
   "cell_type": "code",
   "execution_count": null,
   "id": "f2b3d459",
   "metadata": {},
   "outputs": [],
   "source": [
    "df"
   ]
  },
  {
   "cell_type": "code",
   "execution_count": null,
   "id": "2e59061a",
   "metadata": {},
   "outputs": [],
   "source": [
    "df=df.drop(['민유지', 'Unnamed: 6',\n",
    "       'Unnamed: 7', '국유지', 'Unnamed: 9', 'Unnamed: 10', '시,도유지',\n",
    "       'Unnamed: 12', 'Unnamed: 13', '군유지', 'Unnamed: 15', 'Unnamed: 16', '법인',\n",
    "       'Unnamed: 18', 'Unnamed: 19', '비법인', 'Unnamed: 21', 'Unnamed: 22', '기타',\n",
    "       'Unnamed: 24', 'Unnamed: 25'],axis=1)\n",
    "#필요없는 컬럼 지우기 "
   ]
  },
  {
   "cell_type": "code",
   "execution_count": null,
   "id": "7b554163",
   "metadata": {},
   "outputs": [],
   "source": [
    "df\n",
    "#면적은 키로미터제곱, 가액은 = 면적*(지분)*개별공시지가*(50/100) , 단위는 십억원"
   ]
  },
  {
   "cell_type": "code",
   "execution_count": null,
   "id": "6578ba06",
   "metadata": {},
   "outputs": [],
   "source": [
    "df.set_index('시군구')\n",
    "#인덱스 정리하기 "
   ]
  },
  {
   "cell_type": "code",
   "execution_count": null,
   "id": "e6d1c603",
   "metadata": {},
   "outputs": [],
   "source": [
    "df.columns=['시군구','시도','면적','지번수','가액']"
   ]
  },
  {
   "cell_type": "code",
   "execution_count": null,
   "id": "3959352a",
   "metadata": {},
   "outputs": [],
   "source": [
    "df"
   ]
  },
  {
   "cell_type": "code",
   "execution_count": null,
   "id": "12d47c49",
   "metadata": {},
   "outputs": [],
   "source": [
    "df=df.drop('시군구',axis=1)"
   ]
  },
  {
   "cell_type": "code",
   "execution_count": null,
   "id": "dcd432fe",
   "metadata": {},
   "outputs": [],
   "source": [
    "df=df.drop(index=[0,1,2])\n",
    "#필요없는 행 삭제 "
   ]
  },
  {
   "cell_type": "code",
   "execution_count": null,
   "id": "acc82229",
   "metadata": {},
   "outputs": [],
   "source": [
    "df.set_index('시도')"
   ]
  }
 ],
 "metadata": {
  "jupytext": {
   "formats": "ipynb,auto:light"
  },
  "kernelspec": {
   "display_name": "Python 3",
   "language": "python",
   "name": "python3"
  },
  "language_info": {
   "codemirror_mode": {
    "name": "ipython",
    "version": 3
   },
   "file_extension": ".py",
   "mimetype": "text/x-python",
   "name": "python",
   "nbconvert_exporter": "python",
   "pygments_lexer": "ipython3",
   "version": "3.8.8"
  },
  "toc": {
   "base_numbering": 1,
   "nav_menu": {},
   "number_sections": true,
   "sideBar": true,
   "skip_h1_title": false,
   "title_cell": "Table of Contents",
   "title_sidebar": "Contents",
   "toc_cell": false,
   "toc_position": {},
   "toc_section_display": true,
   "toc_window_display": false
  }
 },
 "nbformat": 4,
 "nbformat_minor": 5
}
